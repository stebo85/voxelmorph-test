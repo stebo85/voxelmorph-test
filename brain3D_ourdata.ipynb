{
    "cells": [
        {
            "cell_type": "code",
            "execution_count": 1,
            "source": [
                "# The GPU id to use, either \"0\" or \"1\";\n",
                "os.environ[\"CUDA_VISIBLE_DEVICES\"]=\"0\";  "
            ],
            "outputs": [],
            "metadata": {}
        },
        {
            "cell_type": "code",
            "execution_count": 2,
            "source": [
                "# !conda create --name steffen-voxelmorph-python3.7_tf2.4.1 python=3.7 tensorflow-gpu=2.4.1 ipykernel ipywidgets notebook jupyter\n",
                "# !conda activate steffen-voxelmorph-python3.7_tf2.4.1\n",
                "# !pip install voxelmorph  # for all things voxelmorph/neurite\n",
                "# !pip install tensorflow_addons  # for tqdm callbacks\n"
            ],
            "outputs": [],
            "metadata": {}
        },
        {
            "cell_type": "code",
            "execution_count": 3,
            "source": [
                "# screen\n",
                "# conda activate steffen-voxelmorph-python3.7_tf2.4.1\n",
                "# conda install runipy\n",
                "# runipy brain3D_ourdata.ipynb\n",
                "# or\n",
                "# jupyter nbconvert --to notebook --execute brain3D_ourdata.ipynb --output executed.ipynb"
            ],
            "outputs": [],
            "metadata": {}
        },
        {
            "cell_type": "code",
            "execution_count": 4,
            "source": [
                "# some imports we'll need throughout the demo\n",
                "import os\n",
                "\n",
                "# some third party very useful libraries\n",
                "import tensorflow as tf\n",
                "import tensorflow_addons as tfa  # for TQDM callback\n",
                "import numpy as np\n",
                "import matplotlib.pyplot as plt\n",
                "from tqdm.notebook import tqdm as tqdm\n",
                "import nibabel as nib\n",
                "\n",
                "# our libraries\n",
                "import voxelmorph as vxm\n",
                "import neurite as ne\n",
                "\n",
                "# turn off eager for this\n",
                "# need to do it due to some tf 2.0+ compatibility issues\n",
                "tf.compat.v1.disable_eager_execution()\n",
                "\n",
                "# some helpful functions\n",
                "def plot_hist(hist):\n",
                "  plt.figure(figsize=(17,5))\n",
                "  plt.subplot(1, 2, 1)\n",
                "  plt.plot(hist.epoch, hist.history['loss'], '.-')\n",
                "  plt.ylabel('loss')\n",
                "  plt.xlabel('epochs');\n",
                "  plt.subplot(1, 2, 2)\n",
                "  nb_epochs = len(hist.epoch) // 2\n",
                "  plt.plot(hist.epoch[-nb_epochs:], hist.history['loss'][-nb_epochs:], '.-')\n",
                "  plt.ylabel('loss')\n",
                "  plt.xlabel('epochs');\n",
                "  plt.show()\n",
                "\n",
                "\n",
                "# generally useful callback\n",
                "# unfortunately show_epoch_progress=True leaves a printout that we can't control (bad implementation in tfa...)\n",
                "tqdm_cb = tfa.callbacks.TQDMProgressBar(leave_epoch_progress=False, show_epoch_progress=False) "
            ],
            "outputs": [
                {
                    "output_type": "stream",
                    "name": "stderr",
                    "text": [
                        "2021-09-26 23:01:08.084681: I tensorflow/stream_executor/platform/default/dso_loader.cc:49] Successfully opened dynamic library libcudart.so.10.1\n"
                    ]
                }
            ],
            "metadata": {}
        },
        {
            "cell_type": "code",
            "execution_count": 7,
            "source": [
                "# prepare data\n",
                "# !ln -s /mnt/FileSystem-DeepLearning/vnm/qsm28_data/realigned_bias-corrected_skullstripped_rescaled-0-1 ourdata\n",
                "files = ['ourdata/' + f for f in os.listdir('ourdata') if f.endswith('interp.nii.gz')]\n",
                "vols = [nib.load(f).get_fdata() for f in tqdm(files)]"
            ],
            "outputs": [
                {
                    "output_type": "display_data",
                    "data": {
                        "application/vnd.jupyter.widget-view+json": {
                            "version_major": 2,
                            "version_minor": 0,
                            "model_id": "46aa782600bd46bb9fe2533fadd055d9"
                        },
                        "text/plain": [
                            "  0%|          | 0/59 [00:00<?, ?it/s]"
                        ]
                    },
                    "metadata": {}
                }
            ],
            "metadata": {}
        },
        {
            "cell_type": "code",
            "execution_count": 9,
            "source": [
                "x_vols_full = np.expand_dims(np.stack(vols, 0), -1)\n",
                "print('x_vols_full.shape: ', x_vols_full.shape)\n",
                "x_vols = x_vols_full[:,0:192,0:192,0:192]\n",
                "print('x_vols.shape: ', x_vols.shape)\n",
                "vol_shape = x_vols.shape[1:-1]\n",
                "\n",
                "\n",
                "# visualize input data\n",
                "plt.subplot(1, 3, 1)\n",
                "plt.imshow(np.rot90(x_vols[2,30,:,:], -1), cmap='gray')\n",
                "plt.subplot(1, 3, 2)\n",
                "plt.imshow(np.rot90(x_vols[2,:,30,:], -1), cmap='gray')\n",
                "plt.subplot(1, 3, 3)\n",
                "plt.imshow(np.rot90(x_vols[2,:,:,30], -1), cmap='gray')"
            ],
            "outputs": [
                {
                    "output_type": "stream",
                    "name": "stdout",
                    "text": [
                        "x_vols_full.shape:  (59, 66, 61, 47, 1)\n",
                        "x_vols.shape:  (59, 66, 61, 47, 1)\n"
                    ]
                },
                {
                    "output_type": "execute_result",
                    "data": {
                        "text/plain": [
                            "<matplotlib.image.AxesImage at 0x7f379b0e9e10>"
                        ]
                    },
                    "metadata": {},
                    "execution_count": 9
                },
                {
                    "output_type": "display_data",
                    "data": {
                        "image/png": "[encoded data removed]",
                        "text/plain": [
                            "<Figure size 432x288 with 3 Axes>"
                        ]
                    },
                    "metadata": {
                        "needs_background": "light"
                    }
                }
            ],
            "metadata": {}
        },
        {
            "cell_type": "code",
            "execution_count": null,
            "source": [],
            "outputs": [],
            "metadata": {}
        },
        {
            "cell_type": "code",
            "execution_count": null,
            "source": [
                "# get the model\n",
                "enc_nf = [16, 32, 32, 32]\n",
                "dec_nf = [32, 32, 32, 32, 32, 16, 16]\n",
                "model = vxm.networks.TemplateCreation(vol_shape, nb_unet_features=[enc_nf, dec_nf])"
            ],
            "outputs": [],
            "metadata": {}
        },
        {
            "cell_type": "code",
            "execution_count": null,
            "source": [
                "# prepare a simple generator. \n",
                "def template_gen(x, batch_size):\n",
                "  vol_shape = list(x.shape[1:-1])\n",
                "  zero = np.zeros([batch_size] + vol_shape + [3])\n",
                "  mean_atlas = np.repeat(  np.mean(x, 0, keepdims=True), batch_size, 0)\n",
                "\n",
                "  while True:\n",
                "    idx = np.random.randint(0, x.shape[0], batch_size)\n",
                "    img = x[idx, ...]\n",
                "    inputs = [mean_atlas, img]\n",
                "    outputs = [img, zero, zero, zero]\n",
                "    yield inputs, outputs\n"
            ],
            "outputs": [],
            "metadata": {}
        },
        {
            "cell_type": "code",
            "execution_count": null,
            "source": [
                "# let's make sure the sizes make sense\n",
                "sample = next(template_gen(x_vols, 8))\n",
                "[print(f.shape) for f in sample[0]], [print(f.shape) for f in sample[1]]\n",
                "\n",
                "enc_nf = [16, 32, 32, 32]\n",
                "dec_nf = [32, 32, 32, 32, 32, 16, 16]\n",
                "\n",
                "print(vol_shape)"
            ],
            "outputs": [],
            "metadata": {}
        },
        {
            "cell_type": "code",
            "execution_count": null,
            "source": [
                "# creat model\n",
                "model = vxm.networks.TemplateCreation(vol_shape, nb_unet_features=[enc_nf, dec_nf])\n"
            ],
            "outputs": [],
            "metadata": {}
        },
        {
            "cell_type": "code",
            "execution_count": null,
            "source": [
                "# prepare losses\n",
                "image_loss_func = vxm.losses.MSE().loss\n",
                "neg_loss_func = lambda _, y_pred: image_loss_func(model.references.atlas_tensor, y_pred)\n",
                "losses = [image_loss_func, neg_loss_func, vxm.losses.MSE().loss, vxm.losses.Grad('l2', loss_mult=2).loss]\n",
                "loss_weights = [0.5, 0.5, 1, 0.01]\n",
                "\n",
                "model.compile('adam', loss=losses, loss_weights=loss_weights)"
            ],
            "outputs": [],
            "metadata": {}
        },
        {
            "cell_type": "code",
            "execution_count": null,
            "source": [
                "# train\n",
                "gen = template_gen(x_vols, batch_size=1)\n",
                "hist = model.fit(gen, epochs=1, steps_per_epoch=1, verbose=0, callbacks=[tqdm_cb])"
            ],
            "outputs": [],
            "metadata": {}
        },
        {
            "cell_type": "code",
            "execution_count": null,
            "source": [
                "# visualize optimization\n",
                "plot_hist(hist)"
            ],
            "outputs": [],
            "metadata": {}
        },
        {
            "cell_type": "code",
            "execution_count": null,
            "source": [
                "atlas = model.references.atlas_layer.get_weights()[0][..., 0]\n",
                "plt.subplot(1, 3, 1)\n",
                "plt.imshow(np.rot90(atlas[100,:,:], -1), cmap='gray')\n",
                "plt.subplot(1, 3, 2)\n",
                "plt.imshow(np.rot90(atlas[:,100,:], -1), cmap='gray')\n",
                "plt.subplot(1, 3, 3)\n",
                "plt.imshow(np.rot90(atlas[:,:,100], -1), cmap='gray')\n",
                "plt.axis('off');\n",
                "plt.axis('off');"
            ],
            "outputs": [],
            "metadata": {}
        }
    ],
    "metadata": {
        "orig_nbformat": 4,
        "language_info": {
            "name": "python",
            "version": "3.7.11",
            "mimetype": "text/x-python",
            "codemirror_mode": {
                "name": "ipython",
                "version": 3
            },
            "pygments_lexer": "ipython3",
            "nbconvert_exporter": "python",
            "file_extension": ".py"
        },
        "kernelspec": {
            "name": "python3",
            "display_name": "Python 3.7.11 64-bit ('steffen-voxelmorph-python3.7_tf2.4.1': conda)"
        },
        "interpreter": {
            "hash": "3938b6340996f8cbc093a29f8f7914660b69311a51fc6c33c29ad3d2dc7fa9ad"
        }
    },
    "nbformat": 4,
    "nbformat_minor": 2
}