{
 "cells": [
  {
   "cell_type": "markdown",
   "metadata": {},
   "source": [
    "# setup"
   ]
  },
  {
   "cell_type": "code",
   "execution_count": 1,
   "metadata": {
    "execution": {
     "iopub.execute_input": "2021-08-01T06:58:06.001785Z",
     "iopub.status.busy": "2021-08-01T06:58:06.000597Z",
     "iopub.status.idle": "2021-08-01T06:58:06.002920Z",
     "shell.execute_reply": "2021-08-01T06:58:06.003767Z"
    }
   },
   "outputs": [],
   "source": [
    "# !conda create --name steffen-voxelmorph-python3.7_tf2.4.1 python=3.7 tensorflow-gpu=2.4.1\n",
    "# !pip install voxelmorph  # for all things voxelmorph/neurite\n",
    "# !pip install tensorflow_addons  # for tqdm callbacks\n"
   ]
  },
  {
   "cell_type": "markdown",
   "metadata": {},
   "source": [
    "# run in screen session\n"
   ]
  },
  {
   "cell_type": "code",
   "execution_count": 2,
   "metadata": {
    "execution": {
     "iopub.execute_input": "2021-08-01T06:58:06.008325Z",
     "iopub.status.busy": "2021-08-01T06:58:06.007306Z",
     "iopub.status.idle": "2021-08-01T06:58:06.009418Z",
     "shell.execute_reply": "2021-08-01T06:58:06.010284Z"
    }
   },
   "outputs": [],
   "source": [
    "# screen\n",
    "# conda activate steffen-voxelmorph-python3.7_tf2.4.1\n",
    "# conda install runipy\n",
    "# runipy demo_brain3D.ipynb\n",
    "# or\n",
    "# jupyter nbconvert --to notebook --execute demo_brain3D.ipynb --output executed.ipynb"
   ]
  },
  {
   "cell_type": "markdown",
   "metadata": {},
   "source": [
    "# Main"
   ]
  },
  {
   "cell_type": "code",
   "execution_count": 3,
   "metadata": {
    "execution": {
     "iopub.execute_input": "2021-08-01T06:58:06.018584Z",
     "iopub.status.busy": "2021-08-01T06:58:06.017532Z",
     "iopub.status.idle": "2021-08-01T06:58:09.210815Z",
     "shell.execute_reply": "2021-08-01T06:58:09.210175Z"
    }
   },
   "outputs": [],
   "source": [
    "\n",
    "# some imports we'll need throughout the demo\n",
    "import os\n",
    "\n",
    "# some third party very useful libraries\n",
    "import tensorflow as tf\n",
    "import tensorflow_addons as tfa  # for TQDM callback\n",
    "import numpy as np\n",
    "import matplotlib.pyplot as plt\n",
    "from tqdm.notebook import tqdm as tqdm\n",
    "import nibabel as nib\n",
    "\n",
    "# our libraries\n",
    "import voxelmorph as vxm\n",
    "import neurite as ne\n",
    "\n",
    "# turn off eager for this\n",
    "# need to do it due to some tf 2.0+ compatibility issues\n",
    "tf.compat.v1.disable_eager_execution()\n",
    "\n",
    "# some helpful functions\n",
    "def plot_hist(hist):\n",
    "  plt.figure(figsize=(17,5))\n",
    "  plt.subplot(1, 2, 1)\n",
    "  plt.plot(hist.epoch, hist.history['loss'], '.-')\n",
    "  plt.ylabel('loss')\n",
    "  plt.xlabel('epochs');\n",
    "  plt.subplot(1, 2, 2)\n",
    "  nb_epochs = len(hist.epoch) // 2\n",
    "  plt.plot(hist.epoch[-nb_epochs:], hist.history['loss'][-nb_epochs:], '.-')\n",
    "  plt.ylabel('loss')\n",
    "  plt.xlabel('epochs');\n",
    "  plt.show()\n",
    "\n",
    "\n",
    "# generally useful callback\n",
    "# unfortunately show_epoch_progress=True leaves a printout that we can't control (bad implementation in tfa...)\n",
    "tqdm_cb = tfa.callbacks.TQDMProgressBar(leave_epoch_progress=False, show_epoch_progress=False) "
   ]
  },
  {
   "cell_type": "code",
   "execution_count": 4,
   "metadata": {
    "execution": {
     "iopub.execute_input": "2021-08-01T06:58:09.215090Z",
     "iopub.status.busy": "2021-08-01T06:58:09.214523Z",
     "iopub.status.idle": "2021-08-01T06:58:09.217303Z",
     "shell.execute_reply": "2021-08-01T06:58:09.216745Z"
    }
   },
   "outputs": [],
   "source": [
    "os.environ[\"CUDA_VISIBLE_DEVICES\"]=\"1\";  "
   ]
  },
  {
   "cell_type": "code",
   "execution_count": 5,
   "metadata": {
    "execution": {
     "iopub.execute_input": "2021-08-01T06:58:09.230693Z",
     "iopub.status.busy": "2021-08-01T06:58:09.229063Z",
     "iopub.status.idle": "2021-08-01T06:58:09.466622Z",
     "shell.execute_reply": "2021-08-01T06:58:09.466058Z"
    }
   },
   "outputs": [],
   "source": [
    "# get the data\n",
    "![ ! -f data-3d.tar ] && wget http://surfer.nmr.mgh.harvard.edu/ftp/data/neurite/data/neurite-oasis.v1.0.tar -O  data-3d.tar\n",
    "![ ! -d oasis-data-3d ] && mkdir oasis-data-3d && tar -xf data-3d.tar --directory oasis-data-3d"
   ]
  },
  {
   "cell_type": "code",
   "execution_count": 6,
   "metadata": {
    "execution": {
     "iopub.execute_input": "2021-08-01T06:58:09.471903Z",
     "iopub.status.busy": "2021-08-01T06:58:09.471328Z",
     "iopub.status.idle": "2021-08-01T06:59:13.708192Z",
     "shell.execute_reply": "2021-08-01T06:59:13.707692Z"
    }
   },
   "outputs": [
    {
     "data": {
      "application/vnd.jupyter.widget-view+json": {
       "model_id": "bdb673f8a70644129732be3e90583605",
       "version_major": 2,
       "version_minor": 0
      },
      "text/plain": [
       "  0%|          | 0/414 [00:00<?, ?it/s]"
      ]
     },
     "metadata": {},
     "output_type": "display_data"
    }
   ],
   "source": [
    "# prepare data\n",
    "files = ['oasis-data-3d/' + f + '/' + 'aligned_norm.nii.gz' for f in os.listdir('oasis-data-3d') if f.startswith('OASIS_OAS1_')]\n",
    "vols = [nib.load(f).get_fdata() for f in tqdm(files)]"
   ]
  },
  {
   "cell_type": "code",
   "execution_count": 7,
   "metadata": {
    "execution": {
     "iopub.execute_input": "2021-08-01T06:59:13.713796Z",
     "iopub.status.busy": "2021-08-01T06:59:13.713231Z",
     "iopub.status.idle": "2021-08-01T06:59:23.664621Z",
     "shell.execute_reply": "2021-08-01T06:59:23.665104Z"
    }
   },
   "outputs": [
    {
     "name": "stdout",
     "output_type": "stream",
     "text": [
      "x_vols_full.shape:  (414, 160, 192, 224, 1)\n",
      "x_vols.shape:  (414, 160, 160, 192, 1)\n"
     ]
    }
   ],
   "source": [
    "x_vols_full = np.expand_dims(np.stack(vols, 0), -1)\n",
    "# x_vols_full = np.stack(vols, 0)\n",
    "print('x_vols_full.shape: ', x_vols_full.shape)\n",
    "x_vols = x_vols_full[:,:,5:165,10:202]\n",
    "print('x_vols.shape: ', x_vols.shape)\n",
    "vol_shape = x_vols.shape[1:-1]\n",
    "# vol_shape = x_vols.shape[1:]"
   ]
  },
  {
   "cell_type": "code",
   "execution_count": 8,
   "metadata": {
    "execution": {
     "iopub.execute_input": "2021-08-01T06:59:23.688459Z",
     "iopub.status.busy": "2021-08-01T06:59:23.687911Z",
     "iopub.status.idle": "2021-08-01T06:59:24.045380Z",
     "shell.execute_reply": "2021-08-01T06:59:24.046420Z"
    }
   },
   "outputs": [
    {
     "data": {
      "image/png": "[encoded data removed]",
      "text/plain": [
       "<Figure size 432x288 with 3 Axes>"
      ]
     },
     "metadata": {
      "needs_background": "light"
     },
     "output_type": "display_data"
    }
   ],
   "source": [
    "# visualize input data\n",
    "plt.subplot(1, 3, 1)\n",
    "plt.imshow(np.rot90(x_vols[7,:,:,100], -1), cmap='gray')\n",
    "plt.subplot(1, 3, 2)\n",
    "plt.imshow(np.rot90(x_vols[7,:,100,:], -1), cmap='gray')\n",
    "plt.subplot(1, 3, 3)\n",
    "plt.imshow(np.rot90(x_vols[7,100,:,:], -1), cmap='gray')\n",
    "plt.axis('off');"
   ]
  },
  {
   "cell_type": "code",
   "execution_count": 9,
   "metadata": {
    "execution": {
     "iopub.execute_input": "2021-08-01T06:59:24.055214Z",
     "iopub.status.busy": "2021-08-01T06:59:24.054623Z",
     "iopub.status.idle": "2021-08-01T06:59:44.723295Z",
     "shell.execute_reply": "2021-08-01T06:59:44.722745Z"
    }
   },
   "outputs": [
    {
     "name": "stdout",
     "output_type": "stream",
     "text": [
      "WARNING:tensorflow:AutoGraph could not transform <bound method LocalParamWithInput.call of <neurite.tf.layers.LocalParamWithInput object at 0x7f00a1a55950>> and will run it as-is.\n",
      "Please report this to the TensorFlow team. When filing the bug, set the verbosity to 10 (on Linux, `export AUTOGRAPH_VERBOSITY=10`) and attach the full output.\n",
      "Cause: module 'gast' has no attribute 'Index'\n",
      "To silence this warning, decorate the function with @tf.autograph.experimental.do_not_convert\n",
      "WARNING:tensorflow:AutoGraph could not transform <bound method RescaleTransform.call of <voxelmorph.tf.layers.RescaleTransform object at 0x7f00a107de90>> and will run it as-is.\n",
      "Please report this to the TensorFlow team. When filing the bug, set the verbosity to 10 (on Linux, `export AUTOGRAPH_VERBOSITY=10`) and attach the full output.\n",
      "Cause: module 'gast' has no attribute 'Index'\n",
      "To silence this warning, decorate the function with @tf.autograph.experimental.do_not_convert\n",
      "WARNING:tensorflow:AutoGraph could not transform <bound method Resize.call of <neurite.tf.layers.Resize object at 0x7f00a1aba0d0>> and will run it as-is.\n",
      "Please report this to the TensorFlow team. When filing the bug, set the verbosity to 10 (on Linux, `export AUTOGRAPH_VERBOSITY=10`) and attach the full output.\n",
      "Cause: module 'gast' has no attribute 'Index'\n",
      "To silence this warning, decorate the function with @tf.autograph.experimental.do_not_convert\n",
      "WARNING:tensorflow:From /home/opc/miniconda3/envs/steffen-voxelmorph-python3.7_tf2.4.1/lib/python3.7/site-packages/tensorflow/python/util/deprecation.py:605: calling map_fn_v2 (from tensorflow.python.ops.map_fn) with dtype is deprecated and will be removed in a future version.\n",
      "Instructions for updating:\n",
      "Use fn_output_signature instead\n",
      "WARNING:tensorflow:AutoGraph could not transform <function resize at 0x7f00a643b5f0> and will run it as-is.\n",
      "Please report this to the TensorFlow team. When filing the bug, set the verbosity to 10 (on Linux, `export AUTOGRAPH_VERBOSITY=10`) and attach the full output.\n",
      "Cause: module 'gast' has no attribute 'Index'\n",
      "To silence this warning, decorate the function with @tf.autograph.experimental.do_not_convert\n",
      "WARNING:tensorflow:AutoGraph could not transform <bound method VecInt.call of <voxelmorph.tf.layers.VecInt object at 0x7f00a109a6d0>> and will run it as-is.\n",
      "Please report this to the TensorFlow team. When filing the bug, set the verbosity to 10 (on Linux, `export AUTOGRAPH_VERBOSITY=10`) and attach the full output.\n",
      "Cause: module 'gast' has no attribute 'Index'\n",
      "To silence this warning, decorate the function with @tf.autograph.experimental.do_not_convert\n",
      "WARNING:tensorflow:AutoGraph could not transform <bound method VecInt._single_int of <voxelmorph.tf.layers.VecInt object at 0x7f00a109a6d0>> and will run it as-is.\n",
      "Please report this to the TensorFlow team. When filing the bug, set the verbosity to 10 (on Linux, `export AUTOGRAPH_VERBOSITY=10`) and attach the full output.\n",
      "Cause: module 'gast' has no attribute 'Index'\n",
      "To silence this warning, decorate the function with @tf.autograph.experimental.do_not_convert\n",
      "WARNING:tensorflow:AutoGraph could not transform <bound method SpatialTransformer.call of <voxelmorph.tf.layers.SpatialTransformer object at 0x7ef5a304f750>> and will run it as-is.\n",
      "Please report this to the TensorFlow team. When filing the bug, set the verbosity to 10 (on Linux, `export AUTOGRAPH_VERBOSITY=10`) and attach the full output.\n",
      "Cause: module 'gast' has no attribute 'Index'\n",
      "To silence this warning, decorate the function with @tf.autograph.experimental.do_not_convert\n",
      "WARNING:tensorflow:AutoGraph could not transform <bound method SpatialTransformer._single_transform of <voxelmorph.tf.layers.SpatialTransformer object at 0x7ef5a304f750>> and will run it as-is.\n",
      "Please report this to the TensorFlow team. When filing the bug, set the verbosity to 10 (on Linux, `export AUTOGRAPH_VERBOSITY=10`) and attach the full output.\n",
      "Cause: module 'gast' has no attribute 'Index'\n",
      "To silence this warning, decorate the function with @tf.autograph.experimental.do_not_convert\n",
      "WARNING:tensorflow:AutoGraph could not transform <bound method MeanStream.call of <neurite.tf.layers.MeanStream object at 0x7f00a0fc4f90>> and will run it as-is.\n",
      "Please report this to the TensorFlow team. When filing the bug, set the verbosity to 10 (on Linux, `export AUTOGRAPH_VERBOSITY=10`) and attach the full output.\n",
      "Cause: module 'gast' has no attribute 'Index'\n",
      "To silence this warning, decorate the function with @tf.autograph.experimental.do_not_convert\n",
      "WARNING:tensorflow:`add_update` `inputs` kwarg has been deprecated. You no longer need to pass a value to `inputs` as it is being automatically inferred.\n"
     ]
    }
   ],
   "source": [
    "%%capture\n",
    "# get the model\n",
    "enc_nf = [16, 32, 32, 32]\n",
    "dec_nf = [32, 32, 32, 32, 32, 16, 16]\n",
    "model = vxm.networks.TemplateCreation(vol_shape, nb_unet_features=[enc_nf, dec_nf])"
   ]
  },
  {
   "cell_type": "code",
   "execution_count": 10,
   "metadata": {
    "execution": {
     "iopub.execute_input": "2021-08-01T06:59:44.729696Z",
     "iopub.status.busy": "2021-08-01T06:59:44.729116Z",
     "iopub.status.idle": "2021-08-01T06:59:44.731422Z",
     "shell.execute_reply": "2021-08-01T06:59:44.731905Z"
    }
   },
   "outputs": [],
   "source": [
    "# prepare a simple generator. \n",
    "def template_gen(x, batch_size):\n",
    "  vol_shape = list(x.shape[1:-1])\n",
    "  zero = np.zeros([batch_size] + vol_shape + [3])\n",
    "  mean_atlas = np.repeat(  np.mean(x, 0, keepdims=True), batch_size, 0)\n",
    "\n",
    "  while True:\n",
    "    idx = np.random.randint(0, x.shape[0], batch_size)\n",
    "    img = x[idx, ...]\n",
    "    inputs = [mean_atlas, img]\n",
    "    outputs = [img, zero, zero, zero]\n",
    "    yield inputs, outputs\n"
   ]
  },
  {
   "cell_type": "code",
   "execution_count": 11,
   "metadata": {
    "execution": {
     "iopub.execute_input": "2021-08-01T06:59:44.736828Z",
     "iopub.status.busy": "2021-08-01T06:59:44.736264Z",
     "iopub.status.idle": "2021-08-01T06:59:49.120030Z",
     "shell.execute_reply": "2021-08-01T06:59:49.120459Z"
    }
   },
   "outputs": [
    {
     "name": "stdout",
     "output_type": "stream",
     "text": [
      "(8, 160, 160, 192, 1)\n",
      "(8, 160, 160, 192, 1)\n",
      "(8, 160, 160, 192, 1)\n",
      "(8, 160, 160, 192, 3)\n",
      "(8, 160, 160, 192, 3)\n",
      "(8, 160, 160, 192, 3)\n",
      "(160, 160, 192)\n"
     ]
    }
   ],
   "source": [
    "# let's make sure the sizes make sense\n",
    "sample = next(template_gen(x_vols, 8))\n",
    "[print(f.shape) for f in sample[0]], [print(f.shape) for f in sample[1]]\n",
    "\n",
    "enc_nf = [16, 32, 32, 32]\n",
    "dec_nf = [32, 32, 32, 32, 32, 16, 16]\n",
    "\n",
    "print(vol_shape)"
   ]
  },
  {
   "cell_type": "code",
   "execution_count": 12,
   "metadata": {
    "execution": {
     "iopub.execute_input": "2021-08-01T06:59:49.134032Z",
     "iopub.status.busy": "2021-08-01T06:59:49.130095Z",
     "iopub.status.idle": "2021-08-01T07:00:08.949417Z",
     "shell.execute_reply": "2021-08-01T07:00:08.949921Z"
    }
   },
   "outputs": [
    {
     "name": "stdout",
     "output_type": "stream",
     "text": [
      "LocalParamWithInput: Consider using neuron.layers.LocalParam()\n",
      "WARNING:tensorflow:`add_update` `inputs` kwarg has been deprecated. You no longer need to pass a value to `inputs` as it is being automatically inferred.\n"
     ]
    }
   ],
   "source": [
    "# creat model\n",
    "model = vxm.networks.TemplateCreation(vol_shape, nb_unet_features=[enc_nf, dec_nf])\n"
   ]
  },
  {
   "cell_type": "code",
   "execution_count": 13,
   "metadata": {
    "execution": {
     "iopub.execute_input": "2021-08-01T07:00:08.961502Z",
     "iopub.status.busy": "2021-08-01T07:00:08.960785Z",
     "iopub.status.idle": "2021-08-01T07:00:09.713920Z",
     "shell.execute_reply": "2021-08-01T07:00:09.713348Z"
    }
   },
   "outputs": [
    {
     "name": "stdout",
     "output_type": "stream",
     "text": [
      "WARNING:tensorflow:AutoGraph could not transform <bound method Grad._diffs of <voxelmorph.tf.losses.Grad object at 0x7f00a10a7e10>> and will run it as-is.\n",
      "Please report this to the TensorFlow team. When filing the bug, set the verbosity to 10 (on Linux, `export AUTOGRAPH_VERBOSITY=10`) and attach the full output.\n",
      "Cause: module 'gast' has no attribute 'Index'\n",
      "To silence this warning, decorate the function with @tf.autograph.experimental.do_not_convert\n",
      "WARNING: AutoGraph could not transform <bound method Grad._diffs of <voxelmorph.tf.losses.Grad object at 0x7f00a10a7e10>> and will run it as-is.\n",
      "Please report this to the TensorFlow team. When filing the bug, set the verbosity to 10 (on Linux, `export AUTOGRAPH_VERBOSITY=10`) and attach the full output.\n",
      "Cause: module 'gast' has no attribute 'Index'\n",
      "To silence this warning, decorate the function with @tf.autograph.experimental.do_not_convert\n"
     ]
    }
   ],
   "source": [
    "# prepare losses\n",
    "image_loss_func = vxm.losses.MSE().loss\n",
    "neg_loss_func = lambda _, y_pred: image_loss_func(model.references.atlas_tensor, y_pred)\n",
    "losses = [image_loss_func, neg_loss_func, vxm.losses.MSE().loss, vxm.losses.Grad('l2', loss_mult=2).loss]\n",
    "loss_weights = [0.5, 0.5, 1, 0.01]\n",
    "\n",
    "model.compile('adam', loss=losses, loss_weights=loss_weights)"
   ]
  },
  {
   "cell_type": "code",
   "execution_count": 14,
   "metadata": {
    "execution": {
     "iopub.execute_input": "2021-08-01T07:00:09.718931Z",
     "iopub.status.busy": "2021-08-01T07:00:09.718344Z",
     "iopub.status.idle": "2021-08-01T10:31:11.046299Z",
     "shell.execute_reply": "2021-08-01T10:31:11.045755Z"
    }
   },
   "outputs": [
    {
     "data": {
      "application/vnd.jupyter.widget-view+json": {
       "model_id": "7c5684b721d14774ac141742c91c90e3",
       "version_major": 2,
       "version_minor": 0
      },
      "text/plain": [
       "Training:   0%|           0/400 ETA: ?s,  ?epochs/s"
      ]
     },
     "metadata": {},
     "output_type": "display_data"
    }
   ],
   "source": [
    "# train\n",
    "gen = template_gen(x_vols, batch_size=1)\n",
    "hist = model.fit(gen, epochs=400, steps_per_epoch=25, verbose=0, callbacks=[tqdm_cb])\n",
    "# hist = model.fit(gen, epochs=3, steps_per_epoch=3, verbose=0, callbacks=[tqdm_cb])"
   ]
  },
  {
   "cell_type": "code",
   "execution_count": 15,
   "metadata": {
    "execution": {
     "iopub.execute_input": "2021-08-01T10:31:11.066584Z",
     "iopub.status.busy": "2021-08-01T10:31:11.059139Z",
     "iopub.status.idle": "2021-08-01T10:31:11.486367Z",
     "shell.execute_reply": "2021-08-01T10:31:11.486845Z"
    }
   },
   "outputs": [
    {
     "data": {
      "image/png": "[encoded data removed]",
      "text/plain": [
       "<Figure size 1224x360 with 2 Axes>"
      ]
     },
     "metadata": {
      "needs_background": "light"
     },
     "output_type": "display_data"
    }
   ],
   "source": [
    "# visualize optimization\n",
    "plot_hist(hist)"
   ]
  },
  {
   "cell_type": "code",
   "execution_count": 16,
   "metadata": {
    "execution": {
     "iopub.execute_input": "2021-08-01T10:31:11.493323Z",
     "iopub.status.busy": "2021-08-01T10:31:11.492751Z",
     "iopub.status.idle": "2021-08-01T10:31:13.215357Z",
     "shell.execute_reply": "2021-08-01T10:31:13.214791Z"
    }
   },
   "outputs": [
    {
     "data": {
      "image/png": "[encoded data removed]",
      "text/plain": [
       "<Figure size 432x288 with 3 Axes>"
      ]
     },
     "metadata": {
      "needs_background": "light"
     },
     "output_type": "display_data"
    }
   ],
   "source": [
    "atlas = model.references.atlas_layer.get_weights()[0][..., 0]\n",
    "plt.subplot(1, 3, 1)\n",
    "plt.imshow(np.rot90(atlas[100,:,:], -1), cmap='gray')\n",
    "plt.subplot(1, 3, 2)\n",
    "plt.imshow(np.rot90(atlas[:,100,:], -1), cmap='gray')\n",
    "plt.subplot(1, 3, 3)\n",
    "plt.imshow(np.rot90(atlas[:,:,100], -1), cmap='gray')\n",
    "plt.axis('off');\n",
    "plt.axis('off');"
   ]
  },
  {
   "cell_type": "code",
   "execution_count": 17,
   "metadata": {
    "execution": {
     "iopub.execute_input": "2021-08-01T10:31:13.221207Z",
     "iopub.status.busy": "2021-08-01T10:31:13.220653Z",
     "iopub.status.idle": "2021-08-01T10:31:14.445025Z",
     "shell.execute_reply": "2021-08-01T10:31:14.444367Z"
    }
   },
   "outputs": [],
   "source": [
    "import time\n",
    "\n",
    "secondsSinceEpoch = time.time()\n",
    "timeObj = time.localtime(secondsSinceEpoch)\n",
    "\n",
    "fileName = 'atlas_{}_{}_{}_{}_{}_{}.nii.gz'\n",
    "fileName = fileName.format(timeObj.tm_year,timeObj.tm_mon,timeObj.tm_mday,timeObj.tm_hour,timeObj.tm_min,timeObj.tm_sec)\n",
    "\n",
    "target_path = './output'\n",
    "\n",
    "if not os.path.exists(target_path):\n",
    "    os.mkdir(target_path)\n",
    "    \n",
    "nib.save(nib.Nifti1Image(atlas, np.eye(4)), os.path.join('output', fileName))  "
   ]
  }
 ],
 "metadata": {
  "interpreter": {
   "hash": "3938b6340996f8cbc093a29f8f7914660b69311a51fc6c33c29ad3d2dc7fa9ad"
  },
  "kernelspec": {
   "display_name": "Python 3.7.10 64-bit ('steffen-voxelmorph-python3.7_tf2.4.1': conda)",
   "name": "python3"
  },
  "language_info": {
   "codemirror_mode": {
    "name": "ipython",
    "version": 3
   },
   "file_extension": ".py",
   "mimetype": "text/x-python",
   "name": "python",
   "nbconvert_exporter": "python",
   "pygments_lexer": "ipython3",
   "version": "3.7.10"
  },
  "widgets": {
   "application/vnd.jupyter.widget-state+json": {
    "state": {
     "05c4bf9b52d345ffb0244666efa1970e": {
      "model_module": "@jupyter-widgets/controls",
      "model_module_version": "1.5.0",
      "model_name": "DescriptionStyleModel",
      "state": {
       "_model_module": "@jupyter-widgets/controls",
       "_model_module_version": "1.5.0",
       "_model_name": "DescriptionStyleModel",
       "_view_count": null,
       "_view_module": "@jupyter-widgets/base",
       "_view_module_version": "1.2.0",
       "_view_name": "StyleView",
       "description_width": ""
      }
     },
     "11adecceeb9140b7acc3af796f7dc32a": {
      "model_module": "@jupyter-widgets/base",
      "model_module_version": "1.2.0",
      "model_name": "LayoutModel",
      "state": {
       "_model_module": "@jupyter-widgets/base",
       "_model_module_version": "1.2.0",
       "_model_name": "LayoutModel",
       "_view_count": null,
       "_view_module": "@jupyter-widgets/base",
       "_view_module_version": "1.2.0",
       "_view_name": "LayoutView",
       "align_content": null,
       "align_items": null,
       "align_self": null,
       "border": null,
       "bottom": null,
       "display": null,
       "flex": null,
       "flex_flow": null,
       "grid_area": null,
       "grid_auto_columns": null,
       "grid_auto_flow": null,
       "grid_auto_rows": null,
       "grid_column": null,
       "grid_gap": null,
       "grid_row": null,
       "grid_template_areas": null,
       "grid_template_columns": null,
       "grid_template_rows": null,
       "height": null,
       "justify_content": null,
       "justify_items": null,
       "left": null,
       "margin": null,
       "max_height": null,
       "max_width": null,
       "min_height": null,
       "min_width": null,
       "object_fit": null,
       "object_position": null,
       "order": null,
       "overflow": null,
       "overflow_x": null,
       "overflow_y": null,
       "padding": null,
       "right": null,
       "top": null,
       "visibility": null,
       "width": null
      }
     },
     "20b5387145a8470a9c1fd9cb8daf3a2d": {
      "model_module": "@jupyter-widgets/controls",
      "model_module_version": "1.5.0",
      "model_name": "ProgressStyleModel",
      "state": {
       "_model_module": "@jupyter-widgets/controls",
       "_model_module_version": "1.5.0",
       "_model_name": "ProgressStyleModel",
       "_view_count": null,
       "_view_module": "@jupyter-widgets/base",
       "_view_module_version": "1.2.0",
       "_view_name": "StyleView",
       "bar_color": null,
       "description_width": ""
      }
     },
     "33444b3dc04e410d89da403687b43c80": {
      "model_module": "@jupyter-widgets/controls",
      "model_module_version": "1.5.0",
      "model_name": "HTMLModel",
      "state": {
       "_dom_classes": [],
       "_model_module": "@jupyter-widgets/controls",
       "_model_module_version": "1.5.0",
       "_model_name": "HTMLModel",
       "_view_count": null,
       "_view_module": "@jupyter-widgets/controls",
       "_view_module_version": "1.5.0",
       "_view_name": "HTMLView",
       "description": "",
       "description_tooltip": null,
       "layout": "IPY_MODEL_af31b8e43e3947979632bffc207752e6",
       "placeholder": "​",
       "style": "IPY_MODEL_98028a1d78a247f4b40e9b525e866e9f",
       "value": " 414/414 [01:04&lt;00:00,  6.39it/s]"
      }
     },
     "35b91be1ed42490da8c8ccc96d9ac0ed": {
      "model_module": "@jupyter-widgets/controls",
      "model_module_version": "1.5.0",
      "model_name": "HTMLModel",
      "state": {
       "_dom_classes": [],
       "_model_module": "@jupyter-widgets/controls",
       "_model_module_version": "1.5.0",
       "_model_name": "HTMLModel",
       "_view_count": null,
       "_view_module": "@jupyter-widgets/controls",
       "_view_module_version": "1.5.0",
       "_view_name": "HTMLView",
       "description": "",
       "description_tooltip": null,
       "layout": "IPY_MODEL_57b5c440cabc47f18fdbe3203d4e3c64",
       "placeholder": "​",
       "style": "IPY_MODEL_05c4bf9b52d345ffb0244666efa1970e",
       "value": " 400/400 ETA: 00:00s,  31.12s/epochs"
      }
     },
     "3aa07a6891e2402d8df4d11e8158a3b4": {
      "model_module": "@jupyter-widgets/base",
      "model_module_version": "1.2.0",
      "model_name": "LayoutModel",
      "state": {
       "_model_module": "@jupyter-widgets/base",
       "_model_module_version": "1.2.0",
       "_model_name": "LayoutModel",
       "_view_count": null,
       "_view_module": "@jupyter-widgets/base",
       "_view_module_version": "1.2.0",
       "_view_name": "LayoutView",
       "align_content": null,
       "align_items": null,
       "align_self": null,
       "border": null,
       "bottom": null,
       "display": null,
       "flex": null,
       "flex_flow": null,
       "grid_area": null,
       "grid_auto_columns": null,
       "grid_auto_flow": null,
       "grid_auto_rows": null,
       "grid_column": null,
       "grid_gap": null,
       "grid_row": null,
       "grid_template_areas": null,
       "grid_template_columns": null,
       "grid_template_rows": null,
       "height": null,
       "justify_content": null,
       "justify_items": null,
       "left": null,
       "margin": null,
       "max_height": null,
       "max_width": null,
       "min_height": null,
       "min_width": null,
       "object_fit": null,
       "object_position": null,
       "order": null,
       "overflow": null,
       "overflow_x": null,
       "overflow_y": null,
       "padding": null,
       "right": null,
       "top": null,
       "visibility": null,
       "width": null
      }
     },
     "4d5b0d6a444248bf804a2619119c9015": {
      "model_module": "@jupyter-widgets/base",
      "model_module_version": "1.2.0",
      "model_name": "LayoutModel",
      "state": {
       "_model_module": "@jupyter-widgets/base",
       "_model_module_version": "1.2.0",
       "_model_name": "LayoutModel",
       "_view_count": null,
       "_view_module": "@jupyter-widgets/base",
       "_view_module_version": "1.2.0",
       "_view_name": "LayoutView",
       "align_content": null,
       "align_items": null,
       "align_self": null,
       "border": null,
       "bottom": null,
       "display": "inline-flex",
       "flex": null,
       "flex_flow": "row wrap",
       "grid_area": null,
       "grid_auto_columns": null,
       "grid_auto_flow": null,
       "grid_auto_rows": null,
       "grid_column": null,
       "grid_gap": null,
       "grid_row": null,
       "grid_template_areas": null,
       "grid_template_columns": null,
       "grid_template_rows": null,
       "height": null,
       "justify_content": null,
       "justify_items": null,
       "left": null,
       "margin": null,
       "max_height": null,
       "max_width": null,
       "min_height": null,
       "min_width": null,
       "object_fit": null,
       "object_position": null,
       "order": null,
       "overflow": null,
       "overflow_x": null,
       "overflow_y": null,
       "padding": null,
       "right": null,
       "top": null,
       "visibility": null,
       "width": "100%"
      }
     },
     "56755871b7b84d3b90e986293ef7ea1e": {
      "model_module": "@jupyter-widgets/base",
      "model_module_version": "1.2.0",
      "model_name": "LayoutModel",
      "state": {
       "_model_module": "@jupyter-widgets/base",
       "_model_module_version": "1.2.0",
       "_model_name": "LayoutModel",
       "_view_count": null,
       "_view_module": "@jupyter-widgets/base",
       "_view_module_version": "1.2.0",
       "_view_name": "LayoutView",
       "align_content": null,
       "align_items": null,
       "align_self": null,
       "border": null,
       "bottom": null,
       "display": null,
       "flex": "2",
       "flex_flow": null,
       "grid_area": null,
       "grid_auto_columns": null,
       "grid_auto_flow": null,
       "grid_auto_rows": null,
       "grid_column": null,
       "grid_gap": null,
       "grid_row": null,
       "grid_template_areas": null,
       "grid_template_columns": null,
       "grid_template_rows": null,
       "height": null,
       "justify_content": null,
       "justify_items": null,
       "left": null,
       "margin": null,
       "max_height": null,
       "max_width": null,
       "min_height": null,
       "min_width": null,
       "object_fit": null,
       "object_position": null,
       "order": null,
       "overflow": null,
       "overflow_x": null,
       "overflow_y": null,
       "padding": null,
       "right": null,
       "top": null,
       "visibility": null,
       "width": null
      }
     },
     "57b5c440cabc47f18fdbe3203d4e3c64": {
      "model_module": "@jupyter-widgets/base",
      "model_module_version": "1.2.0",
      "model_name": "LayoutModel",
      "state": {
       "_model_module": "@jupyter-widgets/base",
       "_model_module_version": "1.2.0",
       "_model_name": "LayoutModel",
       "_view_count": null,
       "_view_module": "@jupyter-widgets/base",
       "_view_module_version": "1.2.0",
       "_view_name": "LayoutView",
       "align_content": null,
       "align_items": null,
       "align_self": null,
       "border": null,
       "bottom": null,
       "display": null,
       "flex": null,
       "flex_flow": null,
       "grid_area": null,
       "grid_auto_columns": null,
       "grid_auto_flow": null,
       "grid_auto_rows": null,
       "grid_column": null,
       "grid_gap": null,
       "grid_row": null,
       "grid_template_areas": null,
       "grid_template_columns": null,
       "grid_template_rows": null,
       "height": null,
       "justify_content": null,
       "justify_items": null,
       "left": null,
       "margin": null,
       "max_height": null,
       "max_width": null,
       "min_height": null,
       "min_width": null,
       "object_fit": null,
       "object_position": null,
       "order": null,
       "overflow": null,
       "overflow_x": null,
       "overflow_y": null,
       "padding": null,
       "right": null,
       "top": null,
       "visibility": null,
       "width": null
      }
     },
     "60b0384700f54309b19ef28c3288a58c": {
      "model_module": "@jupyter-widgets/controls",
      "model_module_version": "1.5.0",
      "model_name": "DescriptionStyleModel",
      "state": {
       "_model_module": "@jupyter-widgets/controls",
       "_model_module_version": "1.5.0",
       "_model_name": "DescriptionStyleModel",
       "_view_count": null,
       "_view_module": "@jupyter-widgets/base",
       "_view_module_version": "1.2.0",
       "_view_name": "StyleView",
       "description_width": ""
      }
     },
     "632199306493486f8462f222420a545a": {
      "model_module": "@jupyter-widgets/controls",
      "model_module_version": "1.5.0",
      "model_name": "HTMLModel",
      "state": {
       "_dom_classes": [],
       "_model_module": "@jupyter-widgets/controls",
       "_model_module_version": "1.5.0",
       "_model_name": "HTMLModel",
       "_view_count": null,
       "_view_module": "@jupyter-widgets/controls",
       "_view_module_version": "1.5.0",
       "_view_name": "HTMLView",
       "description": "",
       "description_tooltip": null,
       "layout": "IPY_MODEL_a960b467b7b640a8aa80464637470e89",
       "placeholder": "​",
       "style": "IPY_MODEL_ba66e6c434d146eaba8ea096c75fde33",
       "value": "100%"
      }
     },
     "6ce224cb07ff4ab2ae6b4b6d08bf1194": {
      "model_module": "@jupyter-widgets/controls",
      "model_module_version": "1.5.0",
      "model_name": "FloatProgressModel",
      "state": {
       "_dom_classes": [],
       "_model_module": "@jupyter-widgets/controls",
       "_model_module_version": "1.5.0",
       "_model_name": "FloatProgressModel",
       "_view_count": null,
       "_view_module": "@jupyter-widgets/controls",
       "_view_module_version": "1.5.0",
       "_view_name": "ProgressView",
       "bar_style": "success",
       "description": "",
       "description_tooltip": null,
       "layout": "IPY_MODEL_56755871b7b84d3b90e986293ef7ea1e",
       "max": 400.0,
       "min": 0.0,
       "orientation": "horizontal",
       "style": "IPY_MODEL_9d73c41139da42a0ba46a383a074a4dc",
       "value": 400.0
      }
     },
     "738ad679934c4845ba4f6b343ea20016": {
      "model_module": "@jupyter-widgets/base",
      "model_module_version": "1.2.0",
      "model_name": "LayoutModel",
      "state": {
       "_model_module": "@jupyter-widgets/base",
       "_model_module_version": "1.2.0",
       "_model_name": "LayoutModel",
       "_view_count": null,
       "_view_module": "@jupyter-widgets/base",
       "_view_module_version": "1.2.0",
       "_view_name": "LayoutView",
       "align_content": null,
       "align_items": null,
       "align_self": null,
       "border": null,
       "bottom": null,
       "display": null,
       "flex": null,
       "flex_flow": null,
       "grid_area": null,
       "grid_auto_columns": null,
       "grid_auto_flow": null,
       "grid_auto_rows": null,
       "grid_column": null,
       "grid_gap": null,
       "grid_row": null,
       "grid_template_areas": null,
       "grid_template_columns": null,
       "grid_template_rows": null,
       "height": null,
       "justify_content": null,
       "justify_items": null,
       "left": null,
       "margin": null,
       "max_height": null,
       "max_width": null,
       "min_height": null,
       "min_width": null,
       "object_fit": null,
       "object_position": null,
       "order": null,
       "overflow": null,
       "overflow_x": null,
       "overflow_y": null,
       "padding": null,
       "right": null,
       "top": null,
       "visibility": null,
       "width": null
      }
     },
     "7c5684b721d14774ac141742c91c90e3": {
      "model_module": "@jupyter-widgets/controls",
      "model_module_version": "1.5.0",
      "model_name": "HBoxModel",
      "state": {
       "_dom_classes": [],
       "_model_module": "@jupyter-widgets/controls",
       "_model_module_version": "1.5.0",
       "_model_name": "HBoxModel",
       "_view_count": null,
       "_view_module": "@jupyter-widgets/controls",
       "_view_module_version": "1.5.0",
       "_view_name": "HBoxView",
       "box_style": "",
       "children": [
        "IPY_MODEL_c19d0fe1e2f346c2b631251f17617a39",
        "IPY_MODEL_6ce224cb07ff4ab2ae6b4b6d08bf1194",
        "IPY_MODEL_35b91be1ed42490da8c8ccc96d9ac0ed"
       ],
       "layout": "IPY_MODEL_4d5b0d6a444248bf804a2619119c9015"
      }
     },
     "8700965f8d4b4eefaff58ab86f239a8d": {
      "model_module": "@jupyter-widgets/controls",
      "model_module_version": "1.5.0",
      "model_name": "FloatProgressModel",
      "state": {
       "_dom_classes": [],
       "_model_module": "@jupyter-widgets/controls",
       "_model_module_version": "1.5.0",
       "_model_name": "FloatProgressModel",
       "_view_count": null,
       "_view_module": "@jupyter-widgets/controls",
       "_view_module_version": "1.5.0",
       "_view_name": "ProgressView",
       "bar_style": "success",
       "description": "",
       "description_tooltip": null,
       "layout": "IPY_MODEL_738ad679934c4845ba4f6b343ea20016",
       "max": 414.0,
       "min": 0.0,
       "orientation": "horizontal",
       "style": "IPY_MODEL_20b5387145a8470a9c1fd9cb8daf3a2d",
       "value": 414.0
      }
     },
     "98028a1d78a247f4b40e9b525e866e9f": {
      "model_module": "@jupyter-widgets/controls",
      "model_module_version": "1.5.0",
      "model_name": "DescriptionStyleModel",
      "state": {
       "_model_module": "@jupyter-widgets/controls",
       "_model_module_version": "1.5.0",
       "_model_name": "DescriptionStyleModel",
       "_view_count": null,
       "_view_module": "@jupyter-widgets/base",
       "_view_module_version": "1.2.0",
       "_view_name": "StyleView",
       "description_width": ""
      }
     },
     "9d73c41139da42a0ba46a383a074a4dc": {
      "model_module": "@jupyter-widgets/controls",
      "model_module_version": "1.5.0",
      "model_name": "ProgressStyleModel",
      "state": {
       "_model_module": "@jupyter-widgets/controls",
       "_model_module_version": "1.5.0",
       "_model_name": "ProgressStyleModel",
       "_view_count": null,
       "_view_module": "@jupyter-widgets/base",
       "_view_module_version": "1.2.0",
       "_view_name": "StyleView",
       "bar_color": null,
       "description_width": ""
      }
     },
     "a960b467b7b640a8aa80464637470e89": {
      "model_module": "@jupyter-widgets/base",
      "model_module_version": "1.2.0",
      "model_name": "LayoutModel",
      "state": {
       "_model_module": "@jupyter-widgets/base",
       "_model_module_version": "1.2.0",
       "_model_name": "LayoutModel",
       "_view_count": null,
       "_view_module": "@jupyter-widgets/base",
       "_view_module_version": "1.2.0",
       "_view_name": "LayoutView",
       "align_content": null,
       "align_items": null,
       "align_self": null,
       "border": null,
       "bottom": null,
       "display": null,
       "flex": null,
       "flex_flow": null,
       "grid_area": null,
       "grid_auto_columns": null,
       "grid_auto_flow": null,
       "grid_auto_rows": null,
       "grid_column": null,
       "grid_gap": null,
       "grid_row": null,
       "grid_template_areas": null,
       "grid_template_columns": null,
       "grid_template_rows": null,
       "height": null,
       "justify_content": null,
       "justify_items": null,
       "left": null,
       "margin": null,
       "max_height": null,
       "max_width": null,
       "min_height": null,
       "min_width": null,
       "object_fit": null,
       "object_position": null,
       "order": null,
       "overflow": null,
       "overflow_x": null,
       "overflow_y": null,
       "padding": null,
       "right": null,
       "top": null,
       "visibility": null,
       "width": null
      }
     },
     "af31b8e43e3947979632bffc207752e6": {
      "model_module": "@jupyter-widgets/base",
      "model_module_version": "1.2.0",
      "model_name": "LayoutModel",
      "state": {
       "_model_module": "@jupyter-widgets/base",
       "_model_module_version": "1.2.0",
       "_model_name": "LayoutModel",
       "_view_count": null,
       "_view_module": "@jupyter-widgets/base",
       "_view_module_version": "1.2.0",
       "_view_name": "LayoutView",
       "align_content": null,
       "align_items": null,
       "align_self": null,
       "border": null,
       "bottom": null,
       "display": null,
       "flex": null,
       "flex_flow": null,
       "grid_area": null,
       "grid_auto_columns": null,
       "grid_auto_flow": null,
       "grid_auto_rows": null,
       "grid_column": null,
       "grid_gap": null,
       "grid_row": null,
       "grid_template_areas": null,
       "grid_template_columns": null,
       "grid_template_rows": null,
       "height": null,
       "justify_content": null,
       "justify_items": null,
       "left": null,
       "margin": null,
       "max_height": null,
       "max_width": null,
       "min_height": null,
       "min_width": null,
       "object_fit": null,
       "object_position": null,
       "order": null,
       "overflow": null,
       "overflow_x": null,
       "overflow_y": null,
       "padding": null,
       "right": null,
       "top": null,
       "visibility": null,
       "width": null
      }
     },
     "ba66e6c434d146eaba8ea096c75fde33": {
      "model_module": "@jupyter-widgets/controls",
      "model_module_version": "1.5.0",
      "model_name": "DescriptionStyleModel",
      "state": {
       "_model_module": "@jupyter-widgets/controls",
       "_model_module_version": "1.5.0",
       "_model_name": "DescriptionStyleModel",
       "_view_count": null,
       "_view_module": "@jupyter-widgets/base",
       "_view_module_version": "1.2.0",
       "_view_name": "StyleView",
       "description_width": ""
      }
     },
     "bdb673f8a70644129732be3e90583605": {
      "model_module": "@jupyter-widgets/controls",
      "model_module_version": "1.5.0",
      "model_name": "HBoxModel",
      "state": {
       "_dom_classes": [],
       "_model_module": "@jupyter-widgets/controls",
       "_model_module_version": "1.5.0",
       "_model_name": "HBoxModel",
       "_view_count": null,
       "_view_module": "@jupyter-widgets/controls",
       "_view_module_version": "1.5.0",
       "_view_name": "HBoxView",
       "box_style": "",
       "children": [
        "IPY_MODEL_632199306493486f8462f222420a545a",
        "IPY_MODEL_8700965f8d4b4eefaff58ab86f239a8d",
        "IPY_MODEL_33444b3dc04e410d89da403687b43c80"
       ],
       "layout": "IPY_MODEL_3aa07a6891e2402d8df4d11e8158a3b4"
      }
     },
     "c19d0fe1e2f346c2b631251f17617a39": {
      "model_module": "@jupyter-widgets/controls",
      "model_module_version": "1.5.0",
      "model_name": "HTMLModel",
      "state": {
       "_dom_classes": [],
       "_model_module": "@jupyter-widgets/controls",
       "_model_module_version": "1.5.0",
       "_model_name": "HTMLModel",
       "_view_count": null,
       "_view_module": "@jupyter-widgets/controls",
       "_view_module_version": "1.5.0",
       "_view_name": "HTMLView",
       "description": "",
       "description_tooltip": null,
       "layout": "IPY_MODEL_11adecceeb9140b7acc3af796f7dc32a",
       "placeholder": "​",
       "style": "IPY_MODEL_60b0384700f54309b19ef28c3288a58c",
       "value": "Training: 100%"
      }
     }
    },
    "version_major": 2,
    "version_minor": 0
   }
  }
 },
 "nbformat": 4,
 "nbformat_minor": 2
}
